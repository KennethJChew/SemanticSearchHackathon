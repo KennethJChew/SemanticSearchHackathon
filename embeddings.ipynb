{
 "cells": [
  {
   "cell_type": "code",
   "execution_count": 1,
   "metadata": {},
   "outputs": [],
   "source": [
    "import cohere\n",
    "import pandas as pd\n",
    "from typing import List,Tuple\n",
    "import numpy as np\n",
    "from numpy import dot\n",
    "from numpy.linalg import norm\n",
    "from sklearn.feature_extraction.text import TfidfVectorizer\n"
   ]
  },
  {
   "cell_type": "code",
   "execution_count": 2,
   "metadata": {},
   "outputs": [],
   "source": [
    "# \"\"\"\n",
    "#     Model choices are:-\n",
    "#     1. large - length of embeddings per token is 4096\n",
    "#     2. small - length of embeddings per token is 1024\n",
    "#     3. multilingual-22-12\n",
    "#     \"\"\"\n",
    "# co = cohere.Client(\"7lUDtMMSa1bVCEVIKEOms0jPImRnselfUQucOH5v\")\n",
    "    \n",
    "# response = co.embed(\n",
    "#   model='small',\n",
    "#   texts=[\"Milkshake\"])\n",
    "# # print('Embeddings: {}'.format(response.embeddings))"
   ]
  },
  {
   "cell_type": "code",
   "execution_count": 3,
   "metadata": {},
   "outputs": [],
   "source": [
    "# print(len(response.embeddings[0]))"
   ]
  },
  {
   "cell_type": "code",
   "execution_count": 4,
   "metadata": {},
   "outputs": [],
   "source": [
    "# def get_cos_sim(text: str) -> List[Tuple[str, float]]:\n",
    "#     \"\"\"Return cosine similarity scores (sorted in descending order) of corpus documents with input text.\n",
    "\n",
    "#     Args:\n",
    "#         text (str): Input text to be compared against corpus.\n",
    "\n",
    "#     Returns:\n",
    "#         List[Tuple[str, float]]: Corpus documents and cosine similarity scores, sorted in descending order.\n",
    "#     \"\"\"\n",
    "#     res = [\n",
    "#         (\"Patent_A\", 0.8),\n",
    "#         (\"Patent_B\", 0.7),\n",
    "#         (\"Patent_C\", 0.6),\n",
    "#     ]\n",
    "#     return res\n",
    "\n",
    "\n",
    "# def get_patent_desc(text: str) -> str:\n",
    "#     \"\"\"Generate new patent description.\n",
    "\n",
    "#     Args:\n",
    "#         text (str): Input text.\n",
    "\n",
    "#     Returns:\n",
    "#         str: New patent description.\n",
    "#     \"\"\"\n",
    "#     res = \"Description of new patent.\"\n",
    "#     return res"
   ]
  },
  {
   "cell_type": "code",
   "execution_count": 5,
   "metadata": {},
   "outputs": [],
   "source": [
    "# datafile = pd.read_csv(\"sample.tsv\",sep=\"\\t\")\n",
    "# corpus_set = datafile.iloc[:1]\n",
    "# test_set = datafile.iloc[1:]\n",
    "# corpus_abstracts = corpus_set[\"ABSTRACT\"]\n",
    "# test_abstract = test_set[\"ABSTRACT\"]\n",
    "\n",
    "# corpus_text = list(corpus_abstracts)\n",
    "# test_text = list(test_abstract)\n",
    "# # abstracts = datafile[\"ABSTRACT\"]\n",
    "# # abstract_list = list(abstracts)\n",
    "# # print(abstract_list)\n",
    "# # datafile.head(5)\n",
    "\n",
    "# print(corpus_abstracts[0])\n",
    "# print(test_abstract[0])"
   ]
  },
  {
   "cell_type": "code",
   "execution_count": 6,
   "metadata": {},
   "outputs": [],
   "source": [
    "# test_results = co.embed(texts=test_text,model=\"small\")\n",
    "# corpus_results = co.embed(texts=corpus_text,model=\"small\")\n"
   ]
  },
  {
   "cell_type": "code",
   "execution_count": 7,
   "metadata": {},
   "outputs": [],
   "source": [
    "# test_embeddings = test_results.embeddings\n",
    "# corpus_embeddings = corpus_results.embeddings\n",
    "\n"
   ]
  },
  {
   "cell_type": "code",
   "execution_count": 8,
   "metadata": {},
   "outputs": [],
   "source": [
    "# print(test_embeddings)"
   ]
  },
  {
   "cell_type": "code",
   "execution_count": 9,
   "metadata": {},
   "outputs": [],
   "source": [
    "# test_embeddings_arr = np.array(test_embeddings)\n",
    "# corpus_embeddings_arr = np.array(corpus_embeddings)\n",
    "# print(test_embeddings_arr.shape)\n",
    "# print(corpus_embeddings_arr.shape)\n"
   ]
  },
  {
   "cell_type": "code",
   "execution_count": 10,
   "metadata": {},
   "outputs": [],
   "source": [
    "# reshaped_test_embeddings = np.reshape(test_embeddings,(1024,-1))\n",
    "# reshaped_test_embeddings.shape\n",
    "# reshaped_corpus_embeddings = np.reshape(corpus_embeddings,(1024,-1))"
   ]
  },
  {
   "cell_type": "code",
   "execution_count": 11,
   "metadata": {},
   "outputs": [],
   "source": [
    "# cosine_similarities = []\n",
    "# for each in corpus_embeddings_arr:\n",
    "#     cos_sim = dot(test_embeddings_arr, each)/(norm(test_embeddings_arr)*norm(each))\n",
    "#     cosine_similarities.append(cos_sim)"
   ]
  },
  {
   "cell_type": "code",
   "execution_count": 12,
   "metadata": {},
   "outputs": [],
   "source": [
    "# print(cosine_similarities)"
   ]
  },
  {
   "cell_type": "code",
   "execution_count": 13,
   "metadata": {},
   "outputs": [],
   "source": [
    "# # [array([0.38826797]), array([0.6634463]), array([0.4280255]), array([0.31543467]), array([0.40113314]), array([0.22327371]), array([0.35148772]), array([0.48820173]), array([0.69228912]), array([0.30005143]), array([0.18081221]), array([0.69498284]), array([0.52173298]), array([0.40174261]), array([0.6032165]), array([0.46532465]), array([0.55992382]), array([0.48836531]), array([0.60111407]), array([0.18527497]), array([0.42137111])]\n",
    "# data = pd.read_csv(\"sample.tsv\",sep=\"\\t\")\n",
    "# cor = data.to_dict(orient=\"records\")\n",
    "# print(cor[1][])\n",
    "\n",
    "# # for each in cor.items():\n",
    "# #     print(each)"
   ]
  },
  {
   "cell_type": "code",
   "execution_count": 29,
   "metadata": {},
   "outputs": [],
   "source": [
    "class PaperParser():\n",
    "    def __init__(self,corpus_text=None,model=\"small\") -> None:\n",
    "        \"\"\"\n",
    "        Model choices are:-\n",
    "        1. large - length of embeddings per token is 4096\n",
    "        2. small - length of embeddings per token is 1024\n",
    "        3. multilingual-22-12\n",
    "        \"\"\"\n",
    "        self.model = model\n",
    "        self.models = [\"small\",\"large\",\"multilingual-22-12\"]\n",
    "        self.client = cohere.Client(\"7lUDtMMSa1bVCEVIKEOms0jPImRnselfUQucOH5v\")\n",
    "        self.corpus = None\n",
    "        # self.corpus_embeddings = co.embed(texts=corpus_text,model=model).embeddings\n",
    "    \n",
    "\n",
    "    def create_corpus(self,datafile,file_type=\"csv\"):\n",
    "        if type != \"csv\":\n",
    "            data = pd.read_csv(datafile,sep=\"\\t\")\n",
    "        else:\n",
    "            data = pd.read_csv(datafile)\n",
    "        corpus = {}\n",
    "        corpus_records = data.to_dict(orient=\"records\")\n",
    "\n",
    "        for idx,record in enumerate(corpus_records):\n",
    "            corpus[idx] = record\n",
    "        self.corpus = corpus\n",
    "\n",
    "    def get_corpus_embeddings(self):\n",
    "        # indices are as follows:\n",
    "        # 0 : dictionary index\n",
    "        # 1 : Title\n",
    "        # 2 : Language\n",
    "        # 3 : Abstract\n",
    "        # 4 : URL\n",
    "        corpus_texts = []\n",
    "        for idx in self.corpus:\n",
    "            corpus_texts.append(self.corpus[idx][\"ABSTRACT\"])\n",
    "        if len(corpus_texts) > 16:\n",
    "            pass\n",
    "        corpus_embeddings = self.client.embed(texts=corpus_texts,model=self.model).embeddings\n",
    "        for idx,embedding in enumerate(corpus_embeddings):\n",
    "            self.corpus[idx][\"EMBEDDING\"] = embedding\n",
    "        \n",
    "    def calc_tf_idf(self,text,result=\"df\",top_n=10):\n",
    "        \"\"\"\n",
    "        Calculates the TF-IDF of the ABSTRACT field in the corpus and returns either\n",
    "        the whole matrix or the top N results\n",
    "\n",
    "        Args:\n",
    "            result (str, optional): flag to toggle between returning the whole matrix or just the top n results.\n",
    "                                    Set to 'df' to return whole matrix, set to 'top' to return the top n results. \n",
    "                                    Defaults to \"df\".\n",
    "            top_n (int, optional):  number of results to return. Defaults to 5.\n",
    "\n",
    "        Returns:\n",
    "            _type_: _description_\n",
    "        \"\"\"\n",
    "        tfidf_texts = []\n",
    "        for each in text:\n",
    "            tfidf_texts.append(each[1])\n",
    "        print(tfidf_texts)\n",
    "        # for idx in self.corpus:\n",
    "        #     tfidf_texts.append(self.corpus[idx][\"ABSTRACT\"])\n",
    "\n",
    "        vectorizer = TfidfVectorizer()\n",
    "        tf_idf = vectorizer.fit_transform(tfidf_texts)\n",
    "        dense = tf_idf.todense()\n",
    "        dense_list = list(dense)\n",
    "        output_features = vectorizer.get_feature_names_out()\n",
    "        df = pd.DataFrame(dense, columns=output_features)\n",
    "        \n",
    "        return_result = []\n",
    "        if result == \"top\":\n",
    "            for row,index in df.iterrows():\n",
    "                return_result.append(index.sort_values(ascending=False)[0:top_n])\n",
    "        else:\n",
    "            return df\n",
    "    \n",
    "    def get_cos_sim(self,text: str,top_n=5) -> List[Tuple[str, float]]:\n",
    "        \"\"\"Return cosine similarity scores (sorted in descending order) of corpus documents with input text.\n",
    "\n",
    "        Args:\n",
    "            text (str): Input text to be compared against corpus.\n",
    "\n",
    "        Returns:\n",
    "            List[Tuple[str, float]]: Corpus documents and cosine similarity scores, sorted in descending order.\n",
    "        \"\"\"\n",
    "        # Get embedding\n",
    "        input_text = [text]\n",
    "        text_embeddings = self.client.embed(texts=input_text,model=self.model).embeddings\n",
    "        # Get cosine similarities\n",
    "        res = []\n",
    "        tf_idf_texts = []\n",
    "        for record in self.corpus.items():\n",
    "            cos_sim = dot(text_embeddings, record[1][\"EMBEDDING\"])/(norm(text_embeddings)*norm(record[1][\"EMBEDDING\"]))\n",
    "            tf_idf_texts.append((record[1][\"TITLE\"],record[1][\"ABSTRACT\"],float(cos_sim)))\n",
    "            res.append((record[1][\"TITLE\"],float(cos_sim)))\n",
    "        res.sort(key=lambda a:a[1],reverse=True)\n",
    "        tf_idf_texts.sort(key=lambda a:a[2],reverse=True)\n",
    "        # print(res)\n",
    "        # print(tf_idf_texts)\n",
    "        tf_idf_results = self.calc_tf_idf(text=tf_idf_texts,result=\"top\",top_n=top_n)\n",
    "        if len(res) >= top_n:\n",
    "            return res[:top_n],tf_idf_results\n",
    "        else:\n",
    "            return res,tf_idf_results\n",
    "\n",
    "        # return res\n",
    "    \n",
    "    "
   ]
  },
  {
   "cell_type": "code",
   "execution_count": 30,
   "metadata": {},
   "outputs": [
    {
     "name": "stdout",
     "output_type": "stream",
     "text": [
      "<class 'pandas.core.series.Series'>\n",
      "<class 'list'>\n"
     ]
    }
   ],
   "source": [
    "test_datafile = pd.read_csv(\"test.tsv\",sep=\"\\t\")\n",
    "test_abstract = test_datafile[\"ABSTRACT\"]\n",
    "test_text = list(test_abstract)\n",
    "print(type(test_abstract))\n",
    "print(type(test_text))"
   ]
  },
  {
   "cell_type": "code",
   "execution_count": 31,
   "metadata": {},
   "outputs": [
    {
     "name": "stdout",
     "output_type": "stream",
     "text": [
      "['https://patents.google.com/patent/US6612379?oq=gardening+tools', '本实用新型涉及一种园林工具的置物架，包括矩形连接架、置物箱体，所述连接架与置物箱体相连接，所述连接架上设有多个连接孔，所述置物箱体左侧端面与前侧端面上均匀设有多个挂钩，置物箱体的右侧设有餐巾纸放置箱，所述餐巾纸放置箱上侧设有盖板，所述盖板一侧与餐巾纸放置箱活动连接，餐巾纸放置箱的前侧上设有矩形出纸口。本实用新型结构简单、设计合理，通过设置置物箱体，能够有效的放置各种所需物品，不仅方便工作人员寻找物品，同时又可以减少空间的占用；通过设置荧光材料层，在夜间使用过程中，便于工作人员快速寻找物品，提高了工作效率。', '本发明涉及一种家用园艺工具用钢55MnB及其制备方法，其成分如下：C 0.52～0.60％、Si 0.15～0.35％、Mn 0.70～1.00％、P≤0.025％、S≤0.008％、Als 0.010～0.060％、B0.0005～0.0030％，余量为Fe和不可避免的杂质。制备方法包括：采用中碳钢，经过铁水脱硫、转炉吹炼、LF精炼、RH真空精炼、连铸、热直装、均热、粗轧、精轧、层流冷却、卷取、缓冷出厂，即得。本发明具有较高的碳含量和优良的淬透性，避免了中碳钢热处理后硬度不均匀和硬度偏低问题，提高了加工成材率；同时有良好的淬透性能。', '本发明公开了一种园林工具刹车装置，包括安装有电机和工作主轴的支座，工作主轴上固定有转轮，电机主轴带动转轮转动，所述支座上固定有套在工作主轴上且伸入转轮内的刹车环，转轮上形成有至少一安装室，安装室内设置有可径向移动的弹性件和位于该弹性件一端且随着弹性件的移动而朝向/远离刹车环的刹车片，当正常工作时，刹车片的离心力大于弹性件的压力，刹车片与刹车环相分离，而当刹车时，刹车片的离心力小于弹性件的压力，刹车片与刹车环接触；本发明将刹车装置从电机主轴移到了工作主轴上，不仅方便了结构设计，而且也提高了刹车效果。', 'This invention is an improved garden hoe having a generally triangular one-piece flat sheet steel hoeing blade. The blade is attached detachably to the hoe handle by means of step bolts having male quadrilateral surfaces which engage centrally spaced female quadrilateral opening in the blade to prevent turning of the step bolts in the blade. Nuts are provided to secure step bolts, the blade, and hoe handle together as an assembly.', 'Gartengerät mit einem Stiel und einem Stahlstiftabschnitt, gekennzeichnet durch eine den Stahlstiftabschnitt lagernde in dem Stiel verankerte Hülse.', 'The invention relates to a steel 55MnB for domestic gardening tools and a preparation method thereof. The steel 55MnB for domestic gardening tools comprises 0.52-0.60% of C, 0.15-0.35% of Si, 0.70-1.00% of Mn, at most 0.025% of P, at most 0.008% of S, 0.010-0.060% of Als, 0.0005-0.0030% of B, and the balance of Fe and inevitable impurities. The preparation method adopts medium-carbon steel and comprises the following steps: molten iron desulfurization, converter blowing, LF (ladle furnace) refining, RH vacuum refining, continuous casting, hot direct charging, soaking, rough rolling, finish rolling, laminar cooling, coiling, slow cooling and factory leaving. The steel 55MnB for domestic gardening tools has higher carbon content and excellent hardenability, avoids hardness nonuniformity and overlow hardness of the medium-carbon steel after heat treatment, and enhances the processing yield; and the steel 55MnB for domestic gardening tools has favorable hardenability.', 'The invention provides a gardening tool with multiple interchangeable tool heads, which includes a grip handle and a connecting head that is located at one end of the grip handle, wherein a plurality of fastening holes is provided at the front side and the lateral side of the connecting head. Besides, a specific tool can be provided at each of the two sides of the first tool head, whereas another specific tool can be provided at the front side of the second tool head. Despite that the tool head may be different, a connecting portion will be provided on each tool head, and a plurality of holes is provided on the connecting portion so that a plurality of fastening elements can be inserted into the holes to fix the connecting portion onto the front end or the side face of the connecting head. Thus, a plurality of tool heads is interchangeable for different usages by being assembled to and disassembled from the connecting head of the grip handle.', 'A garden tool is shown that has the compactness and general shape of a conventional straight shaft weeder. However, certain angles are formed in the shaft to facilitate easier use, particular by those with limited flexibility.', 'A motorized, hand-held garden cultivating tool having a novel assembly of parts for converting a first reciprocating motion to a second reciprocating motion at a substantial angle to the first. The conversion assembly includes a spring-connected linkage member and is free of bearings or any friction contact that would require protection from soil or grit.', 'A portable motorized device (1) for gardening tools having a crankcase (2), a motor (3) housed in the crankcase (2), a drive shaft (4) associated with the motor (4) and suitable for actuating a tool, control device (7) of the motor (3), where said crankcase (2) comprises two hollow substantially symmetrical portions (2 a , 2 b) divided vertically along a plane parallel to the rotation axis of the drive shaft (4), a grip (5; 55) with which control device (7) of the motor are associated.', 'A gardening tool is composed of a blade, a handle, and an eccentric rotating device connecting the blade and the handle. The blade has a connector provided with a receiving hole, whereas the handle is provided at one end thereof with a fastening hole. The eccentric rotating device is composed of a locating rod, a rotating rod and a bolt. The locating rod is securely received in the receiving hole of the connector of the blade while the rotating rod is fitted into the fastening hole of the handle. The locating rod and the rotating rod are held together end to end by the bolt such that the rotating rod can be actuated by the handle to turn.', 'A tool comprising a tubular head having closed ends with an axially enlarge central extend and with an enlarged annular central region with a fixed abutment surface, a plurality of radially extending male threads formed in the head adjacent to the abutment surface; a threaded nut releasably positionable on the male threads of the head and providing an adjustable abutment surface with an annular bearing surface between the fixed and adjustable bearing surfaces; a plurality of rigid linear tines extending from the head on opposite sides of the abutment surfaces, the tines including long tines extending angularly from the head and with a plurality of short tines extending angularly from the head, the long tines being in a first plane and the short tines being in a second plane, the first and second planes being at an angle with respect to each other, extending at angles from the exterior surface of the head, female threads formed in the head with the tines having coupleable male threads at the interior ends of each tine adapted to be removable received in female threads in the head; and a coupling component including a receptacle with an interior cone-shaped configuration for receiving the lower end of a handle, the coupling component having a lower end with an annular aperture positionable on the bearing surface of the head.', 'A handle (10) is described which can be attached by means of a fastening coupling to gardening tools which have a corresponding complementary coupling. Locking is assured in known manner by means of a leaf spring (14), the protuberance (18) of which engages in a locking hole of an inserted tool insertion pin. In order to loosen the coupling, the leaf spring (14) must be lifted out radially. This is done by means of a rocker arm (36) which acts on the free end (20) of the leaf spring (14) and in turn is actuated by axial displacement of a release button (22) which is displaceably mounted in the end of the handle. The restoring of the release button (22) is effected by the radial springing back of the leaf spring (14) which swings the rocker arm (36) back, which arm in turn exerts an axial force on the release button (22).', 'The utility model relates to a placing rack for gardening tools. The placing rack comprises a rectangular connecting frame and a placing box body, which are connected with each other; a plurality of connecting holes are formed in the connecting frame; a plurality of hooks are uniformly arranged on each of the left side end surface and the front side end surface of the placing box body; a napkin placing box is arranged on the right side of the placing box body; a cover plate is arranged on the upper side of the napkin placing box; one side of the cover plate is movably connected with the napkin placing box; a rectangular napkin outlet is formed in the front side of the napkin placing box. The placing rack has a simple structure, and is reasonable in design; the placing box body is arranged to be used for placing various required articles effectively, so that not only are articles are conveniently sought by workers, but also occupied space can be reduced; a fluorescent material layer is arranged, so that during use at night, articles are conveniently and quickly sought for by workers, and the working efficiency is improved.', 'An electrical gardening tool includes a working piece having a main body, and a seat body with a base seat. The main body includes a coupling strip with actuating and hook ends and a projection that is disposed within the main body, and a side wall with a slot. The base seat has a coupling end surface that is formed with a fixed bar to engage the hook end so as to fix the seat body to the working piece. The actuating end of the coupling strip is rotatable forcibly relative to the main body to turn the projection out of the main body through the slot so as to remove the hook end from the bar, thereby permitting removal of the seat body from the working piece.', 'A garden tool includes multiple of the following features: fishtail weeder/nail remover, trowel, nail remover, machete, saw, serrated blade, small-toothed saw, ergonomic handle, safety stop and attachment means for an elongated handle or cane. A rake attachment may also be attached to the elongated handle. The all-in-one tool: (i) saves space and money; (ii) is lightweight; (iii) minimizes the number of necessary tools; and (iv) is adjustable to accommodate user limitations (i.e., disabilities).', 'The handle is a standard wooden stick as used for a brush or a spade. A sleeve, ideally made of aluminum is pushed into the lower end of the stick. The sleeve can have slots and can be secured by spreading. A thin element made of a soft metal is accommodated within the sleeve exceeding this at the outer end. The pointed metal element is moved into a specific angle in relation to the stick by simultaneously bending the sleeve unit.', \"A multifunctional gardening tool that enables a user to mulch, weed and trim a garden, while also allowing the user to easily remove sod or grass using a single tool. The device comprises a handle, either hand held or elongated, along with a working end having a pentagonal shaped cutting tool. The gripping end of the handle is covered with a soft material to improve a user's grip, while the working end of the device comprises a cutting tool with a top portion that attaches to the handle, two parallel, vertical cutting edges and a protruding V-shaped blade constituting the bottom edges of the blade. Teeth on the V-shaped blade, in conjunction with the two vertical cutting edges of the blade, enable the device to cut through roots, sod and other obstacles typically encountered when working in a garden or yard.\", \"Handles allow hand tools, implements or other utensils to operate within their arc of natural use, motion and attack without requiring extension, flexion, radial deviation, or ulnar deviation of the wrist from the neutral plane of the forearm. The preferred embodiments further include a grip shaped to increase the effectiveness of the tool and minimize antagonism between muscles and tendons of the wrist, forearm and upper arm, while maximizing the effectiveness of the gripping force delivered to it by the user. Maintaining the wrist and forearm in a neutral position increases a tool user's potential strength by increasing the synergy between large muscles of the forearm and upper arm and shoulders. It also decreases compression of the tendons and nerves in the carpal tunnel and between the wrist and forearm. Grips according to the invention preferably conform in shape, diameter and dimensions to the physical architecture of the hand such that grip tension and compression of the tendons in the wrist and forearm is optimized, minimizing the compressive force on the small muscles, tendons, and ligaments of the fingers, hand, wrist, and forearm, while maximizing the contributive effectiveness of the larger muscles of the forearm, upper arm and shoulder.\", \"Handles allow hand tools, implements or other utensils to operate within their arc of natural use, motion and attack without requiring extension, flexion, radial deviation, or ulnar deviation of the wrist from the neutral plane of the forearm. The preferred embodiments further include a grip shaped to increase the effectiveness of the tool and minimize antagonism between muscles and tendons of the wrist, forearm and upper arm, while maximizing the effectiveness of the gripping force delivered to it by the user. Maintaining the wrist and forearm in a neutral position increases a tool user's potential strength by increasing the synergy between large muscles of the forearm and upper arm and shoulders. It also decreases compression of the tendons and nerves in the carpal tunnel and between the wrist and forearm. Grips according to the invention preferably conform in shape, diameter and dimensions to the physical architecture of the hand such that grip tension and compression of the tendons in the wrist and forearm is optimized, minimizing the compressive force on the small muscles, tendons, and ligaments of the fingers, hand, wrist, and forearm, while maximizing the contributive effectiveness of the larger muscles of the forearm, upper arm and shoulder.\"]\n"
     ]
    }
   ],
   "source": [
    "test_text = \"Hello world.  This is Chin Hee speaking. \"\n",
    "parser = PaperParser()\n",
    "parser.create_corpus(\"corpus.tsv\",file_type=\"tsv\")\n",
    "parser.get_corpus_embeddings()\n",
    "\n",
    "cos_sim_list,tf_idf_results = parser.get_cos_sim(text=test_text)\n",
    "# parser.corpus"
   ]
  },
  {
   "cell_type": "code",
   "execution_count": null,
   "metadata": {},
   "outputs": [
    {
     "data": {
      "text/plain": [
       "[('Multi-purpose gardening tool', 0.2187893977647217),\n",
       " ('一种园林工具的置物架', 0.2166805484796077),\n",
       " ('一种家用园艺工具用钢55MnB及其制备方法', 0.2012350658950696),\n",
       " ('园林工具刹车装置', 0.16959941680151241),\n",
       " ('Gardening tool', 0.13177415459425804)]"
      ]
     },
     "execution_count": 78,
     "metadata": {},
     "output_type": "execute_result"
    }
   ],
   "source": [
    "cos_sim_list"
   ]
  },
  {
   "cell_type": "code",
   "execution_count": null,
   "metadata": {},
   "outputs": [
    {
     "ename": "TypeError",
     "evalue": "sort_values() missing 1 required positional argument: 'by'",
     "output_type": "error",
     "traceback": [
      "\u001b[1;31m---------------------------------------------------------------------------\u001b[0m",
      "\u001b[1;31mTypeError\u001b[0m                                 Traceback (most recent call last)",
      "Cell \u001b[1;32mIn[70], line 1\u001b[0m\n\u001b[1;32m----> 1\u001b[0m ress \u001b[39m=\u001b[39m parser\u001b[39m.\u001b[39;49mcalc_tf_idf(result\u001b[39m=\u001b[39;49m\u001b[39m\"\u001b[39;49m\u001b[39mtop\u001b[39;49m\u001b[39m\"\u001b[39;49m,top_n\u001b[39m=\u001b[39;49m\u001b[39m5\u001b[39;49m)\n\u001b[0;32m      2\u001b[0m \u001b[39m# ress = parser.calc_tf_idf(result=\"df\")\u001b[39;00m\n\u001b[0;32m      3\u001b[0m ress\n",
      "Cell \u001b[1;32mIn[67], line 91\u001b[0m, in \u001b[0;36mPaperParser.calc_tf_idf\u001b[1;34m(self, result, top_n)\u001b[0m\n\u001b[0;32m     88\u001b[0m df \u001b[39m=\u001b[39m pd\u001b[39m.\u001b[39mDataFrame(dense, columns\u001b[39m=\u001b[39moutput_features)\n\u001b[0;32m     90\u001b[0m \u001b[39mif\u001b[39;00m result \u001b[39m==\u001b[39m \u001b[39m\"\u001b[39m\u001b[39mtop\u001b[39m\u001b[39m\"\u001b[39m:\n\u001b[1;32m---> 91\u001b[0m     \u001b[39mreturn\u001b[39;00m df\u001b[39m.\u001b[39;49msort_values(axis\u001b[39m=\u001b[39;49m\u001b[39m1\u001b[39;49m,ascending\u001b[39m=\u001b[39;49m\u001b[39mFalse\u001b[39;49;00m)[:top_n]\n\u001b[0;32m     92\u001b[0m     \u001b[39m# top_df = []\u001b[39;00m\n\u001b[0;32m     93\u001b[0m     \u001b[39m# for row,index in df.iterrows():\u001b[39;00m\n\u001b[0;32m     94\u001b[0m     \u001b[39m#     # print(index.sort_values(ascending=False)[:top_n])\u001b[39;00m\n\u001b[1;32m   (...)\u001b[0m\n\u001b[0;32m     97\u001b[0m     \u001b[39m# return pd.DataFrame(top_df)\u001b[39;00m\n\u001b[0;32m     98\u001b[0m \u001b[39melse\u001b[39;00m:\n\u001b[0;32m     99\u001b[0m     \u001b[39mreturn\u001b[39;00m df\n",
      "File \u001b[1;32mc:\\Users\\kenne\\miniconda3\\envs\\cohere_hackathon\\lib\\site-packages\\pandas\\util\\_decorators.py:331\u001b[0m, in \u001b[0;36mdeprecate_nonkeyword_arguments.<locals>.decorate.<locals>.wrapper\u001b[1;34m(*args, **kwargs)\u001b[0m\n\u001b[0;32m    325\u001b[0m \u001b[39mif\u001b[39;00m \u001b[39mlen\u001b[39m(args) \u001b[39m>\u001b[39m num_allow_args:\n\u001b[0;32m    326\u001b[0m     warnings\u001b[39m.\u001b[39mwarn(\n\u001b[0;32m    327\u001b[0m         msg\u001b[39m.\u001b[39mformat(arguments\u001b[39m=\u001b[39m_format_argument_list(allow_args)),\n\u001b[0;32m    328\u001b[0m         \u001b[39mFutureWarning\u001b[39;00m,\n\u001b[0;32m    329\u001b[0m         stacklevel\u001b[39m=\u001b[39mfind_stack_level(),\n\u001b[0;32m    330\u001b[0m     )\n\u001b[1;32m--> 331\u001b[0m \u001b[39mreturn\u001b[39;00m func(\u001b[39m*\u001b[39margs, \u001b[39m*\u001b[39m\u001b[39m*\u001b[39mkwargs)\n",
      "\u001b[1;31mTypeError\u001b[0m: sort_values() missing 1 required positional argument: 'by'"
     ]
    }
   ],
   "source": [
    "ress = parser.calc_tf_idf(result=\"top\",top_n=5)\n",
    "# ress = parser.calc_tf_idf(result=\"df\")\n",
    "ress"
   ]
  },
  {
   "cell_type": "code",
   "execution_count": null,
   "metadata": {},
   "outputs": [
    {
     "name": "stdout",
     "output_type": "stream",
     "text": [
      "[('Multi-purpose gardening tool', 0.2187893977647217), ('一种园林工具的置物架', 0.2166805484796077), ('一种家用园艺工具用钢55MnB及其制备方法', 0.2012350658950696), ('园林工具刹车装置', 0.16959941680151241), ('Gardening tool', 0.13177415459425804), ('Gartengerät mit einem Stahlstiftabschnitt', 0.07983132004969051), ('Steel 55MnB for domestic gardening tools and preparation method thereof', 0.046619816534804376), ('Gardening tool with multiple interchangeable tool heads', 0.02671358093732649), ('Gardening tool', 0.011393098065587429), ('Motorized gardening tool', 0.004850248179517823), ('Portable motorised device for gardening tools', -0.00021554123597905016), ('Handle of gardening tool', -0.0033261854387948526), ('Farming and gardening tools with two sets of tines', -0.007649493867684067), ('Handle for household and gardening tools', -0.01053010994932666), ('Placing rack for gardening tools', -0.015269591915010683), ('Electrical gardening tool with a replaceable working piece', -0.020002713050965615), ('Garden tool', -0.03440326122304065), ('Gardening tool assembled of pointed metal element and wooden stick, comprising fixing unit with inner and outer sleeve', -0.047469077943739516), ('Multifunctional Gardening Tool', -0.04789308015721151), ('Ergonomic garden tools', -0.06576618344386079), ('Short-handled, ergonomic garden tools', -0.06578395202178071)]\n"
     ]
    }
   ],
   "source": [
    "print(cos_sim_list)"
   ]
  },
  {
   "cell_type": "code",
   "execution_count": null,
   "metadata": {},
   "outputs": [
    {
     "data": {
      "text/plain": [
       "[('Patent_A', 0.8), ('Patent_B', 0.7), ('Patent_C', 0.6)]"
      ]
     },
     "execution_count": 18,
     "metadata": {},
     "output_type": "execute_result"
    }
   ],
   "source": [
    "res = [(\"Patent_B\", 0.7),(\"Patent_C\", 0.6),(\"Patent_A\", 0.8)]\n",
    "res.sort(key=lambda a:a[1],reverse=True)\n",
    "res"
   ]
  },
  {
   "cell_type": "code",
   "execution_count": null,
   "metadata": {},
   "outputs": [],
   "source": [
    "response = co.generate(  \n",
    "    model='xlarge',  \n",
    "    prompt = \"Write me a 500 word patent application for a gardening tool\",  \n",
    "    max_tokens=40,  \n",
    "    temperature=0.2,  \n",
    "    stop_sequences=[\"--\"])\n",
    "\n",
    "startup_idea = response.generations"
   ]
  },
  {
   "cell_type": "code",
   "execution_count": null,
   "metadata": {},
   "outputs": [],
   "source": [
    "tfidf_texts = []\n",
    "for idx in parser.corpus:\n",
    "    tfidf_texts.append(parser.corpus[idx][\"ABSTRACT\"])"
   ]
  },
  {
   "attachments": {},
   "cell_type": "markdown",
   "metadata": {},
   "source": [
    "Calculate TF-IDF"
   ]
  },
  {
   "cell_type": "code",
   "execution_count": null,
   "metadata": {},
   "outputs": [],
   "source": [
    "def calc_tf_idf():\n",
    "    vectorizer = TfidfVectorizer()\n",
    "    tf_idf = vectorizer.fit_transform(tfidf_texts)\n",
    "    dense = tf_idf.todense()\n",
    "    dense_list = list(dense)\n",
    "    output_features = vectorizer.get_feature_names_out()\n",
    "    df = pd.DataFrame(dense, columns=output_features)\n",
    "    for row,index in df.iterrows():\n",
    "        print(index.sort_values(ascending=False)[0:5])"
   ]
  },
  {
   "cell_type": "code",
   "execution_count": null,
   "metadata": {},
   "outputs": [
    {
     "data": {
      "text/plain": [
       "matrix([[0., 0., 0., ..., 0., 0., 0.],\n",
       "        [0., 0., 0., ..., 0., 0., 0.],\n",
       "        [0., 0., 0., ..., 0., 0., 0.],\n",
       "        ...,\n",
       "        [0., 0., 0., ..., 0., 0., 0.],\n",
       "        [0., 0., 0., ..., 0., 0., 0.],\n",
       "        [0., 0., 0., ..., 0., 0., 0.]])"
      ]
     },
     "execution_count": 22,
     "metadata": {},
     "output_type": "execute_result"
    }
   ],
   "source": [
    "vectorizer = TfidfVectorizer()\n",
    "X = vectorizer.fit_transform(tfidf_texts)\n",
    "dense = X.todense()\n",
    "dense_list = list(dense)\n",
    "dense\n"
   ]
  },
  {
   "cell_type": "code",
   "execution_count": null,
   "metadata": {},
   "outputs": [],
   "source": [
    "output_features = vectorizer.get_feature_names_out()\n",
    "# print(output_features)\n",
    "# print(output_features[312])"
   ]
  },
  {
   "cell_type": "code",
   "execution_count": null,
   "metadata": {},
   "outputs": [
    {
     "data": {
      "text/html": [
       "<div>\n",
       "<style scoped>\n",
       "    .dataframe tbody tr th:only-of-type {\n",
       "        vertical-align: middle;\n",
       "    }\n",
       "\n",
       "    .dataframe tbody tr th {\n",
       "        vertical-align: top;\n",
       "    }\n",
       "\n",
       "    .dataframe thead th {\n",
       "        text-align: right;\n",
       "    }\n",
       "</style>\n",
       "<table border=\"1\" class=\"dataframe\">\n",
       "  <thead>\n",
       "    <tr style=\"text-align: right;\">\n",
       "      <th></th>\n",
       "      <th>00</th>\n",
       "      <th>0005</th>\n",
       "      <th>0030</th>\n",
       "      <th>008</th>\n",
       "      <th>010</th>\n",
       "      <th>025</th>\n",
       "      <th>060</th>\n",
       "      <th>10</th>\n",
       "      <th>14</th>\n",
       "      <th>15</th>\n",
       "      <th>...</th>\n",
       "      <th>设计合理</th>\n",
       "      <th>转炉吹炼</th>\n",
       "      <th>转轮上形成有至少一安装室</th>\n",
       "      <th>远离刹车环的刹车片</th>\n",
       "      <th>连铸</th>\n",
       "      <th>通过设置置物箱体</th>\n",
       "      <th>通过设置荧光材料层</th>\n",
       "      <th>避免了中碳钢热处理后硬度不均匀和硬度偏低问题</th>\n",
       "      <th>采用中碳钢</th>\n",
       "      <th>餐巾纸放置箱的前侧上设有矩形出纸口</th>\n",
       "    </tr>\n",
       "  </thead>\n",
       "  <tbody>\n",
       "    <tr>\n",
       "      <th>0</th>\n",
       "      <td>0.0</td>\n",
       "      <td>0.0</td>\n",
       "      <td>0.0</td>\n",
       "      <td>0.0</td>\n",
       "      <td>0.0</td>\n",
       "      <td>0.0</td>\n",
       "      <td>0.0</td>\n",
       "      <td>0.0</td>\n",
       "      <td>0.0</td>\n",
       "      <td>0.0</td>\n",
       "      <td>...</td>\n",
       "      <td>0.000000</td>\n",
       "      <td>0.0</td>\n",
       "      <td>0.0</td>\n",
       "      <td>0.0</td>\n",
       "      <td>0.0</td>\n",
       "      <td>0.000000</td>\n",
       "      <td>0.000000</td>\n",
       "      <td>0.0</td>\n",
       "      <td>0.0</td>\n",
       "      <td>0.000000</td>\n",
       "    </tr>\n",
       "    <tr>\n",
       "      <th>1</th>\n",
       "      <td>0.0</td>\n",
       "      <td>0.0</td>\n",
       "      <td>0.0</td>\n",
       "      <td>0.0</td>\n",
       "      <td>0.0</td>\n",
       "      <td>0.0</td>\n",
       "      <td>0.0</td>\n",
       "      <td>0.0</td>\n",
       "      <td>0.0</td>\n",
       "      <td>0.0</td>\n",
       "      <td>...</td>\n",
       "      <td>0.000000</td>\n",
       "      <td>0.0</td>\n",
       "      <td>0.0</td>\n",
       "      <td>0.0</td>\n",
       "      <td>0.0</td>\n",
       "      <td>0.000000</td>\n",
       "      <td>0.000000</td>\n",
       "      <td>0.0</td>\n",
       "      <td>0.0</td>\n",
       "      <td>0.000000</td>\n",
       "    </tr>\n",
       "    <tr>\n",
       "      <th>2</th>\n",
       "      <td>0.0</td>\n",
       "      <td>0.0</td>\n",
       "      <td>0.0</td>\n",
       "      <td>0.0</td>\n",
       "      <td>0.0</td>\n",
       "      <td>0.0</td>\n",
       "      <td>0.0</td>\n",
       "      <td>0.0</td>\n",
       "      <td>0.0</td>\n",
       "      <td>0.0</td>\n",
       "      <td>...</td>\n",
       "      <td>0.000000</td>\n",
       "      <td>0.0</td>\n",
       "      <td>0.0</td>\n",
       "      <td>0.0</td>\n",
       "      <td>0.0</td>\n",
       "      <td>0.000000</td>\n",
       "      <td>0.000000</td>\n",
       "      <td>0.0</td>\n",
       "      <td>0.0</td>\n",
       "      <td>0.000000</td>\n",
       "    </tr>\n",
       "    <tr>\n",
       "      <th>3</th>\n",
       "      <td>0.0</td>\n",
       "      <td>0.0</td>\n",
       "      <td>0.0</td>\n",
       "      <td>0.0</td>\n",
       "      <td>0.0</td>\n",
       "      <td>0.0</td>\n",
       "      <td>0.0</td>\n",
       "      <td>0.0</td>\n",
       "      <td>0.0</td>\n",
       "      <td>0.0</td>\n",
       "      <td>...</td>\n",
       "      <td>0.223607</td>\n",
       "      <td>0.0</td>\n",
       "      <td>0.0</td>\n",
       "      <td>0.0</td>\n",
       "      <td>0.0</td>\n",
       "      <td>0.223607</td>\n",
       "      <td>0.223607</td>\n",
       "      <td>0.0</td>\n",
       "      <td>0.0</td>\n",
       "      <td>0.223607</td>\n",
       "    </tr>\n",
       "    <tr>\n",
       "      <th>4</th>\n",
       "      <td>0.0</td>\n",
       "      <td>0.0</td>\n",
       "      <td>0.0</td>\n",
       "      <td>0.0</td>\n",
       "      <td>0.0</td>\n",
       "      <td>0.0</td>\n",
       "      <td>0.0</td>\n",
       "      <td>0.0</td>\n",
       "      <td>0.0</td>\n",
       "      <td>0.0</td>\n",
       "      <td>...</td>\n",
       "      <td>0.000000</td>\n",
       "      <td>0.0</td>\n",
       "      <td>0.0</td>\n",
       "      <td>0.0</td>\n",
       "      <td>0.0</td>\n",
       "      <td>0.000000</td>\n",
       "      <td>0.000000</td>\n",
       "      <td>0.0</td>\n",
       "      <td>0.0</td>\n",
       "      <td>0.000000</td>\n",
       "    </tr>\n",
       "  </tbody>\n",
       "</table>\n",
       "<p>5 rows × 654 columns</p>\n",
       "</div>"
      ],
      "text/plain": [
       "    00  0005  0030  008  010  025  060   10   14   15  ...      设计合理  转炉吹炼  \\\n",
       "0  0.0   0.0   0.0  0.0  0.0  0.0  0.0  0.0  0.0  0.0  ...  0.000000   0.0   \n",
       "1  0.0   0.0   0.0  0.0  0.0  0.0  0.0  0.0  0.0  0.0  ...  0.000000   0.0   \n",
       "2  0.0   0.0   0.0  0.0  0.0  0.0  0.0  0.0  0.0  0.0  ...  0.000000   0.0   \n",
       "3  0.0   0.0   0.0  0.0  0.0  0.0  0.0  0.0  0.0  0.0  ...  0.223607   0.0   \n",
       "4  0.0   0.0   0.0  0.0  0.0  0.0  0.0  0.0  0.0  0.0  ...  0.000000   0.0   \n",
       "\n",
       "   转轮上形成有至少一安装室  远离刹车环的刹车片   连铸  通过设置置物箱体  通过设置荧光材料层  避免了中碳钢热处理后硬度不均匀和硬度偏低问题  \\\n",
       "0           0.0        0.0  0.0  0.000000   0.000000                     0.0   \n",
       "1           0.0        0.0  0.0  0.000000   0.000000                     0.0   \n",
       "2           0.0        0.0  0.0  0.000000   0.000000                     0.0   \n",
       "3           0.0        0.0  0.0  0.223607   0.223607                     0.0   \n",
       "4           0.0        0.0  0.0  0.000000   0.000000                     0.0   \n",
       "\n",
       "   采用中碳钢  餐巾纸放置箱的前侧上设有矩形出纸口  \n",
       "0    0.0           0.000000  \n",
       "1    0.0           0.000000  \n",
       "2    0.0           0.000000  \n",
       "3    0.0           0.223607  \n",
       "4    0.0           0.000000  \n",
       "\n",
       "[5 rows x 654 columns]"
      ]
     },
     "execution_count": 24,
     "metadata": {},
     "output_type": "execute_result"
    }
   ],
   "source": [
    "df = pd.DataFrame(dense, columns=output_features)\n",
    "df.head(5)"
   ]
  },
  {
   "cell_type": "code",
   "execution_count": null,
   "metadata": {},
   "outputs": [
    {
     "name": "stdout",
     "output_type": "stream",
     "text": [
      "shaft          0.366323\n",
      "flexibility    0.207980\n",
      "particular     0.207980\n",
      "those          0.207980\n",
      "straight       0.207980\n",
      "Name: 0, dtype: float64\n",
      "head          0.407534\n",
      "the           0.385429\n",
      "connecting    0.322311\n",
      "of            0.235540\n",
      "tool          0.233816\n",
      "Name: 1, dtype: float64\n",
      "placing     0.539749\n",
      "box         0.359833\n",
      "the         0.283055\n",
      "arranged    0.224896\n",
      "napkin      0.224896\n",
      "Name: 2, dtype: float64\n",
      "餐巾纸放置箱的前侧上设有矩形出纸口    0.223607\n",
      "置物箱体的右侧设有餐巾纸放置箱      0.223607\n",
      "便于工作人员快速寻找物品         0.223607\n",
      "包括矩形连接架              0.223607\n",
      "同时又可以减少空间的占用         0.223607\n",
      "Name: 3, dtype: float64\n",
      "the        0.380980\n",
      "cutting    0.316670\n",
      "edges      0.237502\n",
      "blade      0.231275\n",
      "device     0.189054\n",
      "Name: 4, dtype: float64\n",
      "patent       0.363033\n",
      "patents      0.363033\n",
      "us6612379    0.363033\n",
      "google       0.363033\n",
      "com          0.363033\n",
      "Name: 5, dtype: float64\n",
      "包括安装有电机和工作主轴的支座    0.242536\n",
      "而且也提高了刹车效果         0.242536\n",
      "不仅方便了结构设计          0.242536\n",
      "刹车片与刹车环接触          0.242536\n",
      "刹车片与刹车环相分离         0.242536\n",
      "Name: 6, dtype: float64\n",
      "the        0.517951\n",
      "forearm    0.365105\n",
      "and        0.306934\n",
      "wrist      0.273828\n",
      "of         0.249384\n",
      "Name: 7, dtype: float64\n",
      "the      0.314031\n",
      "which    0.309099\n",
      "leaf     0.261022\n",
      "14       0.261022\n",
      "of       0.241562\n",
      "Name: 8, dtype: float64\n",
      "steel       0.360775\n",
      "55mnb       0.273106\n",
      "domestic    0.273106\n",
      "the         0.227470\n",
      "and         0.227470\n",
      "Name: 9, dtype: float64\n",
      "连铸      0.169922\n",
      "缓冷出厂    0.169922\n",
      "精轧      0.169922\n",
      "粗轧      0.169922\n",
      "热直装     0.169922\n",
      "Name: 10, dtype: float64\n",
      "head         0.388948\n",
      "the          0.376025\n",
      "tines        0.309154\n",
      "with         0.221538\n",
      "extending    0.220825\n",
      "Name: 11, dtype: float64\n",
      "motor         0.457996\n",
      "crankcase     0.343497\n",
      "device        0.273426\n",
      "the           0.254311\n",
      "associated    0.228998\n",
      "Name: 12, dtype: float64\n",
      "saw           0.251202\n",
      "nail          0.251202\n",
      "remover       0.251202\n",
      "attachment    0.251202\n",
      "elongated     0.221226\n",
      "Name: 13, dtype: float64\n",
      "body    0.460390\n",
      "the     0.387038\n",
      "main    0.326732\n",
      "seat    0.326732\n",
      "hook    0.196039\n",
      "Name: 14, dtype: float64\n",
      "blade    0.401324\n",
      "hoe      0.329704\n",
      "step     0.329704\n",
      "bolts    0.329704\n",
      "the      0.244099\n",
      "Name: 15, dtype: float64\n",
      "rod         0.473726\n",
      "the         0.425882\n",
      "rotating    0.406050\n",
      "hole        0.238398\n",
      "locating    0.203025\n",
      "Name: 16, dtype: float64\n",
      "the        0.517951\n",
      "forearm    0.365105\n",
      "and        0.306934\n",
      "wrist      0.273828\n",
      "of         0.249384\n",
      "Name: 17, dtype: float64\n",
      "sleeve     0.427831\n",
      "the        0.356341\n",
      "stick      0.320873\n",
      "element    0.213915\n",
      "metal      0.213915\n",
      "Name: 18, dtype: float64\n",
      "stahlstiftabschnitt    0.415383\n",
      "einem                  0.415383\n",
      "stiel                  0.415383\n",
      "gekennzeichnet         0.207692\n",
      "dem                    0.207692\n",
      "Name: 19, dtype: float64\n",
      "reciprocating    0.312339\n",
      "assembly         0.275068\n",
      "motion           0.248624\n",
      "first            0.248624\n",
      "or               0.184909\n",
      "Name: 20, dtype: float64\n"
     ]
    }
   ],
   "source": [
    "for row,index in df.iterrows():\n",
    "    print(index.sort_values(ascending=False)[0:5])\n",
    "    # print(type(row))\n",
    "    # print(row)\n",
    "    # print(type(index))\n",
    "    # print(index[:])\n",
    "    # temp_row = row.copy()\n",
    "    # temp_row.sort()\n",
    "    # a = temp_row[-10:]\n",
    "    # print(a)"
   ]
  },
  {
   "cell_type": "code",
   "execution_count": null,
   "metadata": {},
   "outputs": [],
   "source": [
    "print(df.max(axis=1))"
   ]
  },
  {
   "cell_type": "code",
   "execution_count": null,
   "metadata": {},
   "outputs": [],
   "source": [
    "Y = vectorizer.transform(test_abstract)\n",
    "print(Y.get_feat)"
   ]
  },
  {
   "cell_type": "code",
   "execution_count": null,
   "metadata": {},
   "outputs": [],
   "source": [
    "from transformers import pipeline\n",
    "\n",
    "def get_patent_desc(text: str) -> str:\n",
    "    \"\"\"Generate new patent description.\n",
    "\n",
    "    Args:\n",
    "        text (str): Input text.\n",
    "\n",
    "    Returns:\n",
    "        str: New patent description.\n",
    "    \"\"\"\n",
    "    \n",
    "\n",
    "    generator = pipeline('text-generation', model='EleutherAI/gpt-neo-1.3B')\n",
    "    res = generator(text, max_length=300, do_sample=True, temperature=0.9,device=0)\n",
    "\n",
    "    return res[0][\"generated_text\"]"
   ]
  },
  {
   "cell_type": "code",
   "execution_count": null,
   "metadata": {},
   "outputs": [],
   "source": [
    "prompt = \"A multipurpose gardening tool made of a lightweight composite material that is corrosion resistant with multiple built in redundancies for ease of use and maintenance in a multitude of environmental conditions\""
   ]
  },
  {
   "cell_type": "code",
   "execution_count": null,
   "metadata": {},
   "outputs": [],
   "source": [
    "result = get_patent_desc(prompt)"
   ]
  },
  {
   "cell_type": "code",
   "execution_count": null,
   "metadata": {},
   "outputs": [],
   "source": [
    "result"
   ]
  }
 ],
 "metadata": {
  "kernelspec": {
   "display_name": "cohere_hackathon",
   "language": "python",
   "name": "python3"
  },
  "language_info": {
   "codemirror_mode": {
    "name": "ipython",
    "version": 3
   },
   "file_extension": ".py",
   "mimetype": "text/x-python",
   "name": "python",
   "nbconvert_exporter": "python",
   "pygments_lexer": "ipython3",
   "version": "3.9.0"
  },
  "orig_nbformat": 4,
  "vscode": {
   "interpreter": {
    "hash": "7a3140b9a8307c5d4052ca5ce7c4e80ebc75753d5fae2c90c0db523a23c774b7"
   }
  }
 },
 "nbformat": 4,
 "nbformat_minor": 2
}
